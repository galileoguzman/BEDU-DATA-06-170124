{
 "cells": [
  {
   "cell_type": "markdown",
   "id": "9c912ad2-42e7-4448-8578-a761e499fa31",
   "metadata": {},
   "source": [
    "# Importar librerias"
   ]
  },
  {
   "cell_type": "code",
   "execution_count": 4,
   "id": "6ce56758-8b6c-449a-845c-4ae8f8674d96",
   "metadata": {},
   "outputs": [],
   "source": [
    "\n",
    "import pandas as pd\n",
    "import numpy as np\n",
    "import matplotlib.pyplot as plt\n"
   ]
  },
  {
   "cell_type": "markdown",
   "id": "e5de9d2a-8a97-4771-82f8-14b4549320c9",
   "metadata": {},
   "source": [
    "### Lectura de archivo CSV"
   ]
  },
  {
   "cell_type": "code",
   "execution_count": null,
   "id": "66150634-5c17-4ec2-8a97-78c63b5fb41e",
   "metadata": {},
   "outputs": [],
   "source": [
    "FILENAME = 'datasets/articles_data_homeproject.csv'"
   ]
  }
 ],
 "metadata": {
  "kernelspec": {
   "display_name": "Python 3 (ipykernel)",
   "language": "python",
   "name": "python3"
  },
  "language_info": {
   "codemirror_mode": {
    "name": "ipython",
    "version": 3
   },
   "file_extension": ".py",
   "mimetype": "text/x-python",
   "name": "python",
   "nbconvert_exporter": "python",
   "pygments_lexer": "ipython3",
   "version": "3.10.5"
  }
 },
 "nbformat": 4,
 "nbformat_minor": 5
}
